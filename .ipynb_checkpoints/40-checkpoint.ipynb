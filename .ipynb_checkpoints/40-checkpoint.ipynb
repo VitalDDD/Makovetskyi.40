{
 "cells": [
  {
   "cell_type": "code",
   "execution_count": 27,
   "id": "11858c97",
   "metadata": {},
   "outputs": [
    {
     "data": {
      "text/html": [
       "<div>\n",
       "<style scoped>\n",
       "    .dataframe tbody tr th:only-of-type {\n",
       "        vertical-align: middle;\n",
       "    }\n",
       "\n",
       "    .dataframe tbody tr th {\n",
       "        vertical-align: top;\n",
       "    }\n",
       "\n",
       "    .dataframe thead th {\n",
       "        text-align: right;\n",
       "    }\n",
       "</style>\n",
       "<table border=\"1\" class=\"dataframe\">\n",
       "  <thead>\n",
       "    <tr style=\"text-align: right;\">\n",
       "      <th></th>\n",
       "      <th>Результати з лекції</th>\n",
       "      <th>Результати з домашки</th>\n",
       "    </tr>\n",
       "  </thead>\n",
       "  <tbody>\n",
       "    <tr>\n",
       "      <th>Cтекінг</th>\n",
       "      <td>0.912281</td>\n",
       "      <td>0.970760</td>\n",
       "    </tr>\n",
       "    <tr>\n",
       "      <th>Беггінг</th>\n",
       "      <td>0.941520</td>\n",
       "      <td>0.953216</td>\n",
       "    </tr>\n",
       "    <tr>\n",
       "      <th>Адаптивний бустинг</th>\n",
       "      <td>0.906433</td>\n",
       "      <td>0.976608</td>\n",
       "    </tr>\n",
       "    <tr>\n",
       "      <th>Градієнтний бустинг</th>\n",
       "      <td>0.853801</td>\n",
       "      <td>0.976608</td>\n",
       "    </tr>\n",
       "  </tbody>\n",
       "</table>\n",
       "</div>"
      ],
      "text/plain": [
       "                     Результати з лекції  Результати з домашки\n",
       "Cтекінг                         0.912281              0.970760\n",
       "Беггінг                         0.941520              0.953216\n",
       "Адаптивний бустинг              0.906433              0.976608\n",
       "Градієнтний бустинг             0.853801              0.976608"
      ]
     },
     "execution_count": 27,
     "metadata": {},
     "output_type": "execute_result"
    }
   ],
   "source": [
    "import pandas as pd\n",
    "from sklearn.ensemble import StackingClassifier\n",
    "from sklearn.datasets import load_breast_cancer\n",
    "from sklearn.svm import SVC\n",
    "from sklearn.linear_model import LogisticRegression\n",
    "from sklearn.linear_model import SGDClassifier\n",
    "from sklearn.tree import DecisionTreeClassifier\n",
    "from sklearn.model_selection import train_test_split\n",
    "from sklearn.ensemble import BaggingClassifier\n",
    "from sklearn.ensemble import AdaBoostClassifier\n",
    "from xgboost import XGBClassifier\n",
    "\n",
    "\n",
    "data, target = load_breast_cancer(return_X_y=True)\n",
    "X_train, X_test, y_train, y_test = train_test_split(data, target, test_size=0.3, random_state=42)\n",
    "\n",
    "estimators = [('lgr', LogisticRegression(max_iter=10000, random_state=42)), \n",
    "              ('dtc', DecisionTreeClassifier(max_depth=6, random_state=42))]\n",
    "modelClf = StackingClassifier(estimators=estimators, final_estimator=SVC())\n",
    "modelClf.fit(X_train, y_train)\n",
    "\n",
    "modelClf_1 = BaggingClassifier(base_estimator=DecisionTreeClassifier(max_depth=6), n_estimators=20, random_state=42)\n",
    "modelClf_1.fit(X_train, y_train)\n",
    "\n",
    "modelClf_2 = AdaBoostClassifier(base_estimator=LogisticRegression(max_iter=10000), n_estimators=100, random_state=42)\n",
    "modelClf_2.fit(X_train, y_train)\n",
    "\n",
    "modelClf_3 = XGBClassifier(booster = 'gbtree',learning_rate=0.2, n_estimators=5, random_state=42)\n",
    "modelClf_3.fit(X_train, y_train)\n",
    "\n",
    "res_home = [modelClf.score(X_test, y_test), modelClf_1.score(X_test, y_test), \n",
    "            modelClf_2.score(X_test, y_test), modelClf_3.score(X_test, y_test)]\n",
    "res_lec = [0.9122807017, 0.9415204678, 0.906432748, 0.8538011695]\n",
    "\n",
    "comparison_of_results = pd.DataFrame({'Результати з лекції': list(res_lec),\n",
    "                                      'Результати з домашки': list(res_home)}, \n",
    "                                     index=['Cтекінг', 'Беггінг', 'Адаптивний бустинг', 'Градієнтний бустинг'])\n",
    "comparison_of_results"
   ]
  },
  {
   "cell_type": "code",
   "execution_count": null,
   "id": "be8e4089",
   "metadata": {},
   "outputs": [],
   "source": []
  }
 ],
 "metadata": {
  "kernelspec": {
   "display_name": "Python 3 (ipykernel)",
   "language": "python",
   "name": "python3"
  },
  "language_info": {
   "codemirror_mode": {
    "name": "ipython",
    "version": 3
   },
   "file_extension": ".py",
   "mimetype": "text/x-python",
   "name": "python",
   "nbconvert_exporter": "python",
   "pygments_lexer": "ipython3",
   "version": "3.9.13"
  }
 },
 "nbformat": 4,
 "nbformat_minor": 5
}
